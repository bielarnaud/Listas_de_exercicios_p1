{
 "cells": [
  {
   "cell_type": "code",
   "execution_count": 2,
   "metadata": {},
   "outputs": [
    {
     "data": {
      "text/plain": [
       "False"
      ]
     },
     "execution_count": 2,
     "metadata": {},
     "output_type": "execute_result"
    }
   ],
   "source": [
    "palavra = 'yaku'\n",
    "hospital = 'shichikokuyama'\n",
    "\n",
    "if palavra in hospital:\n",
    "    print('lembrei da palavra')\n",
    "    remover a palavra "
   ]
  },
  {
   "cell_type": "code",
   "execution_count": 3,
   "metadata": {},
   "outputs": [],
   "source": [
    "def separador_silabas(palavra):\n",
    "  silabas = []\n",
    "  silaba = ''\n",
    "\n",
    "  for letra in palavra:\n",
    "    \n",
    "    if letra in ['a','e','i','o','u']:\n",
    "      silaba = silaba + letra\n",
    "      silabas.append(silaba)\n",
    "      silaba = ''\n",
    "    else:\n",
    "      silaba = silaba + letra\n",
    "\n",
    "  return silabas\n",
    "\n",
    "def juntando_silabas(silabas):\n",
    "  palavra = ''\n",
    "  for silaba in silabas:\n",
    "    palavra = palavra + silaba\n",
    "\n",
    "  return palavra"
   ]
  },
  {
   "cell_type": "code",
   "execution_count": 10,
   "metadata": {},
   "outputs": [
    {
     "data": {
      "text/plain": [
       "['ga', 'bri', 'e']"
      ]
     },
     "execution_count": 10,
     "metadata": {},
     "output_type": "execute_result"
    }
   ],
   "source": [
    "hospital = separador_silabas(hospital)\n",
    "hospital"
   ]
  },
  {
   "cell_type": "code",
   "execution_count": 6,
   "metadata": {},
   "outputs": [
    {
     "data": {
      "text/plain": [
       "'shichikoma'"
      ]
     },
     "execution_count": 6,
     "metadata": {},
     "output_type": "execute_result"
    }
   ],
   "source": [
    "hospital = juntando_silabas(hospital)\n",
    "hospital"
   ]
  },
  {
   "cell_type": "code",
   "execution_count": 9,
   "metadata": {},
   "outputs": [],
   "source": [
    "hospital = 'gabriel'"
   ]
  },
  {
   "cell_type": "code",
   "execution_count": null,
   "metadata": {},
   "outputs": [],
   "source": []
  }
 ],
 "metadata": {
  "kernelspec": {
   "display_name": "Python 3.9.13 64-bit (windows store)",
   "language": "python",
   "name": "python3"
  },
  "language_info": {
   "codemirror_mode": {
    "name": "ipython",
    "version": 3
   },
   "file_extension": ".py",
   "mimetype": "text/x-python",
   "name": "python",
   "nbconvert_exporter": "python",
   "pygments_lexer": "ipython3",
   "version": "3.9.13"
  },
  "orig_nbformat": 4,
  "vscode": {
   "interpreter": {
    "hash": "b7f22e608a9410c9a00adbb49e3cb6a72010c497ae6b30c9496ff58de178a89c"
   }
  }
 },
 "nbformat": 4,
 "nbformat_minor": 2
}
